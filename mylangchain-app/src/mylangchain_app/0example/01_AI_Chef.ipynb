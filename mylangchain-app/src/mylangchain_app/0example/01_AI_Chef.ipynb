{
 "cells": [
  {
   "cell_type": "markdown",
   "id": "6333f248",
   "metadata": {},
   "source": [
    "\n",
    "# 문제 1-1 : 기본 Chain 만들기 — AI 요리사\n",
    "\n",
    "**목표**: PromptTemplate → ChatOpenAI → StrOutputParser를 LCEL(`|`)로 연결해,\n",
    "입력 재료로 만들 수 있는 **추천 요리와 간단 레시피**를 생성합니다.\n"
   ]
  },
  {
   "cell_type": "code",
   "execution_count": 1,
   "id": "367114dc",
   "metadata": {},
   "outputs": [],
   "source": [
    "\n",
    "# 필수 패키지(처음 1회만)\n",
    "# !pip install -U langchain-core langchain-openai python-dotenv\n"
   ]
  },
  {
   "cell_type": "code",
   "execution_count": 2,
   "id": "4807ac09",
   "metadata": {},
   "outputs": [
    {
     "name": "stdout",
     "output_type": "stream",
     "text": [
      "[API prefix] gsk_Zl\n"
     ]
    }
   ],
   "source": [
    "\n",
    "import os\n",
    "from dotenv import load_dotenv, find_dotenv\n",
    "from langchain_core.prompts import PromptTemplate\n",
    "from langchain_openai import ChatOpenAI\n",
    "from langchain_core.output_parsers import StrOutputParser\n",
    "\n",
    "# .env 로드 (.env가 워크스페이스 루트에 있다면 자동 탐색)\n",
    "env_path = find_dotenv(usecwd=True)\n",
    "load_dotenv(env_path)\n",
    "\n",
    "API_KEY = os.getenv(\"OPENAI_API_KEY\") or os.getenv(\"GROQ_API_KEY\")\n",
    "if not API_KEY:\n",
    "    raise RuntimeError(f\".env에 OPENAI_API_KEY 또는 GROQ_API_KEY가 없습니다. 찾은 경로: {env_path or '(없음)'}\")\n",
    "\n",
    "print(\"[API prefix]\", API_KEY[:6])\n",
    "\n",
    "# LLM (Groq OpenAI 호환)\n",
    "llm = ChatOpenAI(\n",
    "    api_key=API_KEY,\n",
    "    base_url=\"https://api.groq.com/openai/v1\",\n",
    "    model=\"meta-llama/llama-4-scout-17b-16e-instruct\",\n",
    "    temperature=0.7,\n",
    ")\n"
   ]
  },
  {
   "cell_type": "code",
   "execution_count": 3,
   "id": "5cdccb25",
   "metadata": {},
   "outputs": [],
   "source": [
    "\n",
    "# 체인 구성: PromptTemplate | ChatOpenAI | StrOutputParser\n",
    "prompt = PromptTemplate.from_template(\n",
    "    \"\"\"다음 재료들을 활용해 만들 수 있는 한 가지 대표 요리와 간단 레시피를 한국어로 알려주세요.\n",
    "- 재료: {ingredients}\n",
    "\n",
    "출력 형식 예:\n",
    "추천 요리: (요리명)\n",
    "재료: (사용 재료 나열)\n",
    "조리법:\n",
    "1) ...\n",
    "2) ...\n",
    "3) ...\"\"\"\n",
    ")\n",
    "\n",
    "chain = prompt | llm | StrOutputParser()\n"
   ]
  },
  {
   "cell_type": "code",
   "execution_count": null,
   "id": "fd554555",
   "metadata": {},
   "outputs": [
    {
     "name": "stdout",
     "output_type": "stream",
     "text": [
      "추천 요리: 김치 계란밥\n",
      "\n",
      "재료: 계란, 밥, 김치\n",
      "\n",
      "조리법:\n",
      "\n",
      "1. 김치를 잘게 썬다.\n",
      "2. 팬에 기름을 두르고 썬 김치를 볶는다.\n",
      "3. 김치가 볶아지면 밥을 넣고 함께 볶는다.\n",
      "4. 계란을 풀어서 팬에 넣고 스크램블 에그처럼 만들어준다.\n",
      "5. 계란과 김치밥이 섞이도록 잘 볶아준다.\n",
      "6. 맛있는 김치 계란밥이 완성된다!\n"
     ]
    }
   ],
   "source": [
    "\n",
    "user_ingredients = \"계란, 밥, 김치\"\n",
    "response = chain.invoke({\"ingredients\": user_ingredients})\n",
    "print(response)\n"
   ]
  }
 ],
 "metadata": {
  "kernelspec": {
   "display_name": "mylangchain-app-SBe-Yh6W-py3.12",
   "language": "python",
   "name": "python3"
  },
  "language_info": {
   "codemirror_mode": {
    "name": "ipython",
    "version": 3
   },
   "file_extension": ".py",
   "mimetype": "text/x-python",
   "name": "python",
   "nbconvert_exporter": "python",
   "pygments_lexer": "ipython3",
   "version": "3.12.7"
  }
 },
 "nbformat": 4,
 "nbformat_minor": 5
}
