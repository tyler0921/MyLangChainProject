{
 "cells": [
  {
   "cell_type": "markdown",
   "id": "0823bfc1",
   "metadata": {},
   "source": [
    "\n",
    "# 문제 4-2 : 조건부 분기가 있는 메뉴 추천 시스템 (LangGraph)\n",
    "**요구:** MessageState를 사용해 대화형으로 **메뉴/가격/추천** 문의에 응답.  \n",
    "**핵심:** 의미론적 검색 + 상태 기반 분기 + 구조화 정보 추출.\n"
   ]
  },
  {
   "cell_type": "markdown",
   "id": "b9557187",
   "metadata": {},
   "source": [
    "## 0) 환경 점검"
   ]
  },
  {
   "cell_type": "code",
   "execution_count": 1,
   "id": "5e7e55d0",
   "metadata": {},
   "outputs": [
    {
     "name": "stdout",
     "output_type": "stream",
     "text": [
      "Python: 3.12.7 | packaged by Anaconda, Inc. | (main, Oct  4 2024, 13:17:27) [MSC v.1929 64 bit (AMD64)]\n",
      "Platform: Windows-11-10.0.26100-SP0\n",
      "OPENAI_API_KEY set: True\n"
     ]
    }
   ],
   "source": [
    "\n",
    "import os, sys, platform\n",
    "print(\"Python:\", sys.version)\n",
    "print(\"Platform:\", platform.platform())\n",
    "print(\"OPENAI_API_KEY set:\", bool(os.getenv(\"OPENAI_API_KEY\")))\n"
   ]
  },
  {
   "cell_type": "markdown",
   "id": "11e2c03a",
   "metadata": {},
   "source": [
    "## 1) 벡터 DB 로드"
   ]
  },
  {
   "cell_type": "code",
   "execution_count": 2,
   "id": "5ccb85c8",
   "metadata": {},
   "outputs": [
    {
     "name": "stderr",
     "output_type": "stream",
     "text": [
      "c:\\Users\\user\\AppData\\Local\\pypoetry\\Cache\\virtualenvs\\mylangchain-app-SBe-Yh6W-py3.12\\Lib\\site-packages\\tqdm\\auto.py:21: TqdmWarning: IProgress not found. Please update jupyter and ipywidgets. See https://ipywidgets.readthedocs.io/en/stable/user_install.html\n",
      "  from .autonotebook import tqdm as notebook_tqdm\n"
     ]
    },
    {
     "name": "stdout",
     "output_type": "stream",
     "text": [
      "FAISS loaded: True\n"
     ]
    }
   ],
   "source": [
    "\n",
    "from pathlib import Path\n",
    "from langchain_community.vectorstores import FAISS\n",
    "from langchain_openai import OpenAIEmbeddings\n",
    "\n",
    "DB_DIR = Path.cwd() / \"db\" / \"cafe_db\"\n",
    "emb = OpenAIEmbeddings(model=\"text-embedding-3-small\")\n",
    "vs = FAISS.load_local(str(DB_DIR), embeddings=emb, allow_dangerous_deserialization=True)\n",
    "print(\"FAISS loaded:\", DB_DIR.exists())\n"
   ]
  },
  {
   "cell_type": "markdown",
   "id": "0c7f2138",
   "metadata": {},
   "source": [
    "## 2) 구조화 정보 추출"
   ]
  },
  {
   "cell_type": "code",
   "execution_count": 3,
   "id": "fba59365",
   "metadata": {},
   "outputs": [],
   "source": [
    "\n",
    "import re\n",
    "from langchain.schema import Document\n",
    "\n",
    "def extract_menu_info(doc: Document) -> dict:\n",
    "    content = doc.page_content\n",
    "    menu_name = doc.metadata.get('menu_name', 'Unknown')\n",
    "    price_match = re.search(r'₩([\\d,]+)', content)\n",
    "    desc_match = re.search(r'설명:\\s*(.+?)(?:\\n|$)', content, re.DOTALL)\n",
    "    return {\n",
    "        \"name\": menu_name,\n",
    "        \"price\": f\"₩{price_match.group(1)}\" if price_match else \"가격 정보 없음\",\n",
    "        \"description\": desc_match.group(1).strip() if desc_match else \"설명 없음\"\n",
    "    }\n"
   ]
  },
  {
   "cell_type": "markdown",
   "id": "02b3cb72",
   "metadata": {},
   "source": [
    "## 3) 문의 유형 분류 로직"
   ]
  },
  {
   "cell_type": "code",
   "execution_count": 4,
   "id": "2e4ac8cc",
   "metadata": {},
   "outputs": [],
   "source": [
    "\n",
    "def classify_intent(text: str) -> str:\n",
    "    t = (text or \"\").lower()\n",
    "    if any(k in t for k in [\"추천\", \"추천해\", \"인기\", \"뭐가 좋아\", \"고르면\"]):\n",
    "        return \"recommend\"\n",
    "    if any(k in t for k in [\"가격\", \"얼마\", \"비싸\", \"저렴\"]):\n",
    "        return \"price\"\n",
    "    return \"menu\"\n"
   ]
  },
  {
   "cell_type": "markdown",
   "id": "cb69331a",
   "metadata": {},
   "source": [
    "## 4) LangGraph — 상태/노드/그래프"
   ]
  },
  {
   "cell_type": "code",
   "execution_count": 6,
   "id": "a81ad752",
   "metadata": {},
   "outputs": [],
   "source": [
    "from typing import List, Dict, Any\n",
    "from langgraph.graph import StateGraph, END, MessagesState\n",
    "from langchain_core.messages import HumanMessage, AIMessage\n",
    "from langchain_openai import ChatOpenAI\n",
    "\n",
    "def node_classify(state: dict) -> dict:\n",
    "    user_msg = state[\"messages\"][-1].content\n",
    "    state[\"intent\"] = classify_intent(user_msg)\n",
    "    return state\n",
    "\n",
    "def node_search(state: dict) -> dict:\n",
    "    user_msg = state[\"messages\"][-1].content\n",
    "    intent = state.get(\"intent\", \"menu\")\n",
    "    if intent == \"price\":\n",
    "        docs = vs.similarity_search(\"메뉴 가격\", k=5)\n",
    "    elif intent == \"recommend\":\n",
    "        docs = vs.similarity_search(user_msg, k=3) or vs.similarity_search(\"인기 메뉴\", k=3)\n",
    "    else:\n",
    "        docs = vs.similarity_search(user_msg, k=4)\n",
    "    state[\"docs\"] = docs\n",
    "    return state\n",
    "\n",
    "llm = ChatOpenAI(model=\"gpt-4o-mini\", temperature=0)\n",
    "\n",
    "def node_respond(state: dict) -> dict:\n",
    "    intent = state.get(\"intent\", \"menu\")\n",
    "    user_msg = state[\"messages\"][-1].content\n",
    "    infos = [extract_menu_info(d) for d in state.get(\"docs\", [])]\n",
    "    context = \"\\n\".join([f\"- {i['name']} | {i['price']} | {i['description']}\" for i in infos])\n",
    "\n",
    "    if intent == \"price\":\n",
    "        prompt = f\"\"\"가격 문의에 간단하게 답하세요.\n",
    "질문: {user_msg}\n",
    "문맥:\n",
    "{context}\n",
    "한국어로 2~3문장.\"\"\"\n",
    "    elif intent == \"recommend\":\n",
    "        prompt = f\"\"\"카페 추천을 제안하세요.\n",
    "질문: {user_msg}\n",
    "문맥:\n",
    "{context}\n",
    "최대 3개 메뉴를 이유와 함께.\"\"\"\n",
    "    else:\n",
    "        prompt = f\"\"\"메뉴 정보를 설명하세요.\n",
    "질문: {user_msg}\n",
    "문맥:\n",
    "{context}\n",
    "가격과 특징 포함, 3문장 이내.\"\"\"\n",
    "\n",
    "    ans = llm.invoke(prompt).content\n",
    "    state[\"messages\"].append(AIMessage(content=ans))\n",
    "    return state\n",
    "\n",
    "# ✅ MessagesState 사용\n",
    "graph = StateGraph(MessagesState)\n",
    "graph.add_node(\"classify\", node_classify)\n",
    "graph.add_node(\"search\", node_search)\n",
    "graph.add_node(\"respond\", node_respond)\n",
    "\n",
    "graph.set_entry_point(\"classify\")\n",
    "graph.add_edge(\"classify\", \"search\")\n",
    "graph.add_edge(\"search\", \"respond\")\n",
    "graph.add_edge(\"respond\", END)\n",
    "\n",
    "app = graph.compile()\n"
   ]
  },
  {
   "cell_type": "markdown",
   "id": "45fc4adb",
   "metadata": {},
   "source": [
    "## 5) 테스트"
   ]
  },
  {
   "cell_type": "code",
   "execution_count": 7,
   "id": "07b5a962",
   "metadata": {},
   "outputs": [
    {
     "name": "stdout",
     "output_type": "stream",
     "text": [
      "\n",
      "== 사용자: 아메리카노 가격 알려줘\n",
      "아메리카노는 일반적으로 3,500원에서 5,000원 사이의 가격으로 제공됩니다. 진한 에스프레소에 뜨거운 물을 추가하여 부드러운 맛을 즐길 수 있는 커피입니다. 카페인 함량이 높아 피로 회복에 도움을 주며, 다양한 디저트와 잘 어울립니다.\n",
      "\n",
      "== 사용자: 달달한 메뉴 추천해줘\n",
      "추천하는 달달한 메뉴는 '초코 브라우니'입니다. 가격은 약 5,000원으로, 진한 초콜릿 맛과 부드러운 식감이 특징이며, 바닐라 아이스크림과 함께 제공되어 더욱 풍부한 맛을 즐길 수 있습니다. 또한, 따뜻하게 제공되어 입안에서 녹는 느낌이 일품입니다.\n",
      "\n",
      "== 사용자: 콜드브루의 특징은 뭐야?\n",
      "콜드브루는 찬물로 천천히 추출한 커피로, 일반적으로 12시간 이상 우려내어 부드럽고 풍부한 맛을 자랑합니다. 카페인 함량이 높고 쓴맛이 적어, 아이스 음료로 인기가 많습니다. 가격은 보통 4,000원에서 6,000원 사이로, 카페마다 다를 수 있습니다.\n"
     ]
    }
   ],
   "source": [
    "\n",
    "from langchain_core.messages import HumanMessage\n",
    "\n",
    "tests = [\n",
    "    \"아메리카노 가격 알려줘\",\n",
    "    \"달달한 메뉴 추천해줘\",\n",
    "    \"콜드브루의 특징은 뭐야?\"\n",
    "]\n",
    "\n",
    "for t in tests:\n",
    "    state = {\"messages\": [HumanMessage(content=t)]}\n",
    "    final = app.invoke(state)\n",
    "    print(f\"\\n== 사용자: {t}\")\n",
    "    print(final[\"messages\"][-1].content)\n"
   ]
  }
 ],
 "metadata": {
  "kernelspec": {
   "display_name": "mylangchain-app-SBe-Yh6W-py3.12",
   "language": "python",
   "name": "python3"
  },
  "language_info": {
   "codemirror_mode": {
    "name": "ipython",
    "version": 3
   },
   "file_extension": ".py",
   "mimetype": "text/x-python",
   "name": "python",
   "nbconvert_exporter": "python",
   "pygments_lexer": "ipython3",
   "version": "3.12.7"
  }
 },
 "nbformat": 4,
 "nbformat_minor": 5
}
