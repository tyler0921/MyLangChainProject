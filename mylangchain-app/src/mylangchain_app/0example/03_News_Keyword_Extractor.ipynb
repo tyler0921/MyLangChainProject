{
 "cells": [
  {
   "cell_type": "markdown",
   "id": "15b811d3",
   "metadata": {},
   "source": [
    "\n",
    "# 문제 1-3 : FewShotPromptTemplate — 뉴스 키워드 추출기\n",
    "\n",
    "**목표**:  \n",
    "- `FewShotChatMessagePromptTemplate`로 예시 3개 이상 제공  \n",
    "- 시스템 메시지를 통해 **정확히 3개 키워드**만, `키워드: A, B, C` 형식으로 출력  \n"
   ]
  },
  {
   "cell_type": "code",
   "execution_count": 1,
   "id": "4ab72339",
   "metadata": {},
   "outputs": [],
   "source": [
    "\n",
    "# 필수 패키지(처음 1회만)\n",
    "# !pip install -U langchain-core langchain-openai python-dotenv\n"
   ]
  },
  {
   "cell_type": "code",
   "execution_count": 2,
   "id": "aef00bd6",
   "metadata": {},
   "outputs": [
    {
     "name": "stdout",
     "output_type": "stream",
     "text": [
      "[API prefix] gsk_Zl\n"
     ]
    }
   ],
   "source": [
    "\n",
    "import os\n",
    "from dotenv import load_dotenv, find_dotenv\n",
    "from langchain_core.prompts import ChatPromptTemplate, FewShotChatMessagePromptTemplate\n",
    "from langchain_core.output_parsers import StrOutputParser\n",
    "from langchain_openai import ChatOpenAI\n",
    "\n",
    "env_path = find_dotenv(usecwd=True)\n",
    "load_dotenv(env_path)\n",
    "\n",
    "API_KEY = os.getenv(\"OPENAI_API_KEY\") or os.getenv(\"GROQ_API_KEY\")\n",
    "if not API_KEY:\n",
    "    raise RuntimeError(f\".env에 OPENAI_API_KEY 또는 GROQ_API_KEY가 없습니다. 찾은 경로: {env_path or '(없음)'}\")\n",
    "\n",
    "print(\"[API prefix]\", API_KEY[:6])\n",
    "\n",
    "llm = ChatOpenAI(\n",
    "    api_key=API_KEY,\n",
    "    base_url=\"https://api.groq.com/openai/v1\",\n",
    "    model=\"meta-llama/llama-4-scout-17b-16e-instruct\",\n",
    "    temperature=0.2,  # 키워드 추출은 일관성이 좋아야 해서 낮춤\n",
    ")\n"
   ]
  },
  {
   "cell_type": "code",
   "execution_count": 3,
   "id": "0effa0fd",
   "metadata": {},
   "outputs": [],
   "source": [
    "\n",
    "# 예시 프롬프트(대화형)\n",
    "example_prompt = ChatPromptTemplate.from_messages([\n",
    "    (\"human\", \"{news}\"),\n",
    "    (\"ai\", \"키워드: {keywords}\")\n",
    "])\n",
    "\n",
    "# 최소 3개 예시\n",
    "examples = [\n",
    "    {\n",
    "        \"news\": \"삼성전자가 내년 초 자체 개발한 인공지능(AI) 가속기를 출시할 예정이다. 엔비디아의 독점 구조에 도전한다.\",\n",
    "        \"keywords\": \"삼성전자, AI가속기, 엔비디아\",\n",
    "    },\n",
    "    {\n",
    "        \"news\": \"세계보건기구(WHO)는 새로운 건강 위기에 대응하기 위해 국제 협력의 중요성을 강조하며, 글로벌 보건 시스템 개선을 촉구했다.\",\n",
    "        \"keywords\": \"WHO, 국제협력, 보건시스템\",\n",
    "    },\n",
    "    {\n",
    "        \"news\": \"테슬라는 차세대 배터리 생산 공정을 공개하며 생산 단가 절감을 목표로 한다고 밝혔다.\",\n",
    "        \"keywords\": \"테슬라, 배터리, 생산공정\",\n",
    "    },\n",
    "]\n",
    "\n",
    "few_shot_prompt = FewShotChatMessagePromptTemplate(\n",
    "    example_prompt=example_prompt,\n",
    "    examples=examples,\n",
    ")\n",
    "\n",
    "final_prompt = ChatPromptTemplate.from_messages([\n",
    "    (\"system\", \"뉴스 키워드 추출 전문가입니다. 핵심 키워드 3개만, 쉼표로 구분해 '키워드: A, B, C' 형식으로 출력하세요.\"),\n",
    "    few_shot_prompt,\n",
    "    (\"human\", \"{input}\")\n",
    "])\n",
    "\n",
    "chain = final_prompt | llm | StrOutputParser()\n"
   ]
  },
  {
   "cell_type": "code",
   "execution_count": 4,
   "id": "c0e18996",
   "metadata": {},
   "outputs": [
    {
     "name": "stdout",
     "output_type": "stream",
     "text": [
      "키워드: 제미나이, AI, 구글\n"
     ]
    }
   ],
   "source": [
    "test_news = (\n",
    "    \"제미나이 2.0 플래시는 현재 구글 AI 스튜디오(Google AI Studio) 및 버텍스 AI(Vertex AI)에서 \"\n",
    "    \"제미나이 API를 통해 개발자에게 실험 모델로 제공됩니다. 멀티모달 입력 및 텍스트 출력을 사용할 수 있으며, \"\n",
    "    \"텍스트 음성 변환과 네이티브 이미지 생성은 일부 파트너들을 대상으로 제공됩니다. 내년 1월에는 \"\n",
    "    \"더 많은 모델 사이즈와 함께 일반에 공개될 예정입니다.\"\n",
    ")\n",
    "\n",
    "print(chain.invoke({\"input\": test_news}))\n"
   ]
  }
 ],
 "metadata": {
  "kernelspec": {
   "display_name": "mylangchain-app-SBe-Yh6W-py3.12",
   "language": "python",
   "name": "python3"
  },
  "language_info": {
   "codemirror_mode": {
    "name": "ipython",
    "version": 3
   },
   "file_extension": ".py",
   "mimetype": "text/x-python",
   "name": "python",
   "nbconvert_exporter": "python",
   "pygments_lexer": "ipython3",
   "version": "3.12.7"
  }
 },
 "nbformat": 4,
 "nbformat_minor": 5
}
