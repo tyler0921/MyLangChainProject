{
 "cells": [
  {
   "cell_type": "markdown",
   "id": "78311696",
   "metadata": {},
   "source": [
    "\n",
    "# 문제 2\n"
   ]
  },
  {
   "cell_type": "code",
   "execution_count": null,
   "id": "b169822b",
   "metadata": {},
   "outputs": [
    {
     "name": "stderr",
     "output_type": "stream",
     "text": [
      "c:\\Users\\user\\AppData\\Local\\pypoetry\\Cache\\virtualenvs\\mylangchain-app-SBe-Yh6W-py3.12\\Lib\\site-packages\\tqdm\\auto.py:21: TqdmWarning: IProgress not found. Please update jupyter and ipywidgets. See https://ipywidgets.readthedocs.io/en/stable/user_install.html\n",
      "  from .autonotebook import tqdm as notebook_tqdm\n",
      "c:\\Users\\user\\AppData\\Local\\pypoetry\\Cache\\virtualenvs\\mylangchain-app-SBe-Yh6W-py3.12\\Lib\\site-packages\\IPython\\core\\interactiveshell.py:3699: LangChainDeprecationWarning: As of langchain-core 0.3.0, LangChain uses pydantic v2 internally. The langchain_core.pydantic_v1 module was a compatibility shim for pydantic v1, and should no longer be used. Please update the code to import from Pydantic directly.\n",
      "\n",
      "For example, replace imports like: `from langchain_core.pydantic_v1 import BaseModel`\n",
      "with: `from pydantic import BaseModel`\n",
      "or the v1 compatibility namespace if you are working in a code base that has not been fully upgraded to pydantic 2 yet. \tfrom pydantic.v1 import BaseModel\n",
      "\n",
      "  exec(code_obj, self.user_global_ns, self.user_ns)\n"
     ]
    },
    {
     "name": "stdout",
     "output_type": "stream",
     "text": [
      "[OK] OpenAI LLM 준비 완료\n"
     ]
    }
   ],
   "source": [
    "\n",
    "# 필요시 설치 (주석 해제)\n",
    "# !pip install -U langchain langchain-openai python-dotenv\n",
    "\n",
    "import os\n",
    "from dotenv import load_dotenv, find_dotenv\n",
    "from enum import Enum\n",
    "from typing import List\n",
    "\n",
    "from langchain_openai import ChatOpenAI\n",
    "from langchain_core.prompts import PromptTemplate\n",
    "from langchain.output_parsers import (\n",
    "    CommaSeparatedListOutputParser,\n",
    "    EnumOutputParser,\n",
    "    PydanticOutputParser,\n",
    "    StructuredOutputParser,\n",
    "    ResponseSchema,\n",
    "    OutputFixingParser,\n",
    ")\n",
    "from langchain_core.pydantic_v1 import BaseModel, Field\n",
    "\n",
    "# .env 로드\n",
    "env_path = find_dotenv(usecwd=True)\n",
    "load_dotenv(env_path)\n",
    "API_KEY = os.getenv(\"OPENAI_API_KEY\")\n",
    "if not API_KEY:\n",
    "    raise RuntimeError(\"OPENAI_API_KEY를 .env에 넣어주세요.\")\n",
    "\n",
    "# OpenAI LLM 설정\n",
    "llm = ChatOpenAI(\n",
    "    api_key=API_KEY,\n",
    "    model=\"gpt-4o-mini\",  # 필요시 다른 OpenAI 모델 지정 가능\n",
    "    temperature=0,\n",
    ")\n",
    "print(\"[OK] OpenAI LLM 준비 완료\")\n"
   ]
  },
  {
   "cell_type": "markdown",
   "id": "a237e8d1",
   "metadata": {},
   "source": [
    "## 문제 2-1 : 콤마 구분 리스트 파서 활용"
   ]
  },
  {
   "cell_type": "code",
   "execution_count": 2,
   "id": "cf2f7ceb",
   "metadata": {},
   "outputs": [
    {
     "name": "stdout",
     "output_type": "stream",
     "text": [
      "['김치전문점', '광장시장', '남대문시장', '전주비빔밥', '부산자갈치시장']\n"
     ]
    }
   ],
   "source": [
    "\n",
    "parser_21 = CommaSeparatedListOutputParser()\n",
    "prompt_21 = PromptTemplate.from_template(\n",
    "    \"\"\"사용자가 입력한 관심 분야와 관련된 한국의 유명한 장소나 활동 5가지를 콤마로 구분해 출력하세요.\n",
    "관심 분야: {field}\n",
    "\n",
    "{format_instructions}\n",
    "\"\"\"\n",
    ").partial(format_instructions=parser_21.get_format_instructions())\n",
    "\n",
    "chain_21 = prompt_21 | llm | parser_21\n",
    "print(chain_21.invoke({\"field\": \"음식\"}))\n"
   ]
  },
  {
   "cell_type": "markdown",
   "id": "7ce10b51",
   "metadata": {},
   "source": [
    "## 문제 2-2 : 영화 리뷰 감정 분석기"
   ]
  },
  {
   "cell_type": "code",
   "execution_count": 11,
   "id": "f06d3661",
   "metadata": {},
   "outputs": [
    {
     "name": "stdout",
     "output_type": "stream",
     "text": [
      "번호 | 감정 | 리뷰 요약\n",
      "--------------------------------------------------\n",
      " 1   | 부정 | 이 영화 정말 재미없어요. 시간 낭비였습니다.\n",
      " 2   | 긍정 | 배우들의 연기가 훌륭하고 스토리도 감동적이었어요!\n",
      " 3   | 보통 | 그냥 무난한 영화였습니다. 나쁘지도 좋지도 않아요.\n"
     ]
    }
   ],
   "source": [
    "import os\n",
    "from enum import Enum\n",
    "from dotenv import load_dotenv, find_dotenv\n",
    "\n",
    "from langchain_openai import ChatOpenAI\n",
    "from langchain_core.prompts import PromptTemplate\n",
    "from langchain_core.output_parsers import StrOutputParser\n",
    "from langchain.output_parsers import EnumOutputParser, OutputFixingParser\n",
    "\n",
    "# --- OpenAI LLM 설정 ---\n",
    "env_path = find_dotenv(usecwd=True)\n",
    "load_dotenv(env_path)\n",
    "API_KEY = os.getenv(\"OPENAI_API_KEY\")\n",
    "if not API_KEY:\n",
    "    raise RuntimeError(\"OPENAI_API_KEY를 .env에 넣어주세요.\")\n",
    "\n",
    "llm = ChatOpenAI(\n",
    "    api_key=API_KEY,\n",
    "    model=\"gpt-4o-mini\",  # 필요시 다른 OpenAI 모델로 교체 가능\n",
    "    temperature=0,\n",
    ")\n",
    "\n",
    "# --- Enum 정의 ---\n",
    "class Sentiment(str, Enum):\n",
    "    긍정 = \"긍정\"\n",
    "    부정 = \"부정\"\n",
    "    보통 = \"보통\"\n",
    "\n",
    "# --- 파서 구성 ---\n",
    "enum_parser = EnumOutputParser(enum=Sentiment)\n",
    "fixing_parser = OutputFixingParser.from_llm(parser=enum_parser, llm=llm)\n",
    "\n",
    "# --- 프롬프트 ---\n",
    "prompt = PromptTemplate.from_template(\n",
    "    \"\"\"다음 영화 리뷰의 감정을 '긍정', '부정', '보통' 중 하나로만 출력하세요.\n",
    "리뷰: {review}\n",
    "\n",
    "{format_instructions}\n",
    "\"\"\"\n",
    ").partial(format_instructions=enum_parser.get_format_instructions())\n",
    "\n",
    "# --- 체인: AIMessage -> 문자열화 -> Enum 파싱 ---\n",
    "base_chain = prompt | llm | StrOutputParser()\n",
    "chain_enum = base_chain | enum_parser          # 1차 시도\n",
    "chain_fix  = base_chain | fixing_parser        # 실패 시 보정\n",
    "\n",
    "def classify(review: str) -> Sentiment:\n",
    "    try:\n",
    "        return chain_enum.invoke({\"review\": review})\n",
    "    except Exception:\n",
    "        return chain_fix.invoke({\"review\": review})\n",
    "\n",
    "# --- 여러 리뷰로 검증 + 깔끔한 출력 ---\n",
    "test_reviews = [\n",
    "    \"이 영화 정말 재미없어요. 시간 낭비였습니다.\",\n",
    "    \"배우들의 연기가 훌륭하고 스토리도 감동적이었어요!\",\n",
    "    \"그냥 무난한 영화였습니다. 나쁘지도 좋지도 않아요.\"\n",
    "]\n",
    "\n",
    "print(\"번호 | 감정 | 리뷰 요약\")\n",
    "print(\"-\" * 50)\n",
    "for i, r in enumerate(test_reviews, 1):\n",
    "    result = classify(r)\n",
    "    short = (r[:28] + \"…\") if len(r) > 28 else r  # 간단 요약\n",
    "    print(f\"{i:>2}   | {result.value} | {short}\")\n"
   ]
  },
  {
   "cell_type": "markdown",
   "id": "75d9b58a",
   "metadata": {},
   "source": [
    "## 문제 2-3 : 학생 정보 구조화 시스템"
   ]
  },
  {
   "cell_type": "code",
   "execution_count": 14,
   "id": "ff40f0d6",
   "metadata": {},
   "outputs": [
    {
     "name": "stdout",
     "output_type": "stream",
     "text": [
      "name='김민수' age=22 major='컴퓨터공학' hobbies=['게임하기', '영화보기', '코딩'] goal='앞으로 훌륭한 개발자가 되는 것'\n"
     ]
    }
   ],
   "source": [
    "import os\n",
    "from dotenv import load_dotenv, find_dotenv\n",
    "from typing import List\n",
    "\n",
    "from langchain_openai import ChatOpenAI\n",
    "from langchain_core.prompts import PromptTemplate\n",
    "from langchain_core.output_parsers import StrOutputParser\n",
    "from langchain.output_parsers import PydanticOutputParser, OutputFixingParser\n",
    "from pydantic import BaseModel, Field  # ← 중요: v2 사용!\n",
    "\n",
    "# 0) 환경 변수 로드\n",
    "env_path = find_dotenv(usecwd=True)\n",
    "load_dotenv(env_path)\n",
    "\n",
    "API_KEY = os.getenv(\"OPENAI_API_KEY\")\n",
    "if not API_KEY:\n",
    "    raise RuntimeError(\"`.env`에 OPENAI_API_KEY=sk-... 를 설정해 주세요.\")\n",
    "\n",
    "# 1) OpenAI LLM 설정 (base_url 넣지 않음)\n",
    "llm = ChatOpenAI(\n",
    "    api_key=API_KEY,\n",
    "    model=\"gpt-4o-mini\",   # 필요시 \"gpt-4o\", \"gpt-4.1-mini\" 등으로 교체 가능\n",
    "    temperature=0,\n",
    ")\n",
    "\n",
    "# 2) Pydantic v2 모델 정의\n",
    "class Student(BaseModel):\n",
    "    name: str = Field(description=\"학생 이름\")\n",
    "    age: int = Field(description=\"학생 나이(정수)\")\n",
    "    major: str = Field(description=\"학생 전공\")\n",
    "    hobbies: List[str] = Field(description=\"취미 리스트(문자열 배열)\")\n",
    "    goal: str = Field(description=\"장기 목표(간단 요약)\")\n",
    "\n",
    "# 3) 파서 & 포맷 지시문\n",
    "pyd_parser = PydanticOutputParser(pydantic_object=Student)\n",
    "fixing_parser = OutputFixingParser.from_llm(parser=pyd_parser, llm=llm)  # 복구용\n",
    "format_instructions = pyd_parser.get_format_instructions()\n",
    "\n",
    "# 4) 프롬프트\n",
    "prompt = PromptTemplate.from_template(\n",
    "    \"\"\"다음 자유 형식 자기소개에서 이름, 나이(정수), 전공, 취미 리스트, 목표를 추출하세요.\n",
    "반드시 JSON 형식으로만 출력하고, 키는 아래와 같이 하세요:\n",
    "- name (string)\n",
    "- age (integer)\n",
    "- major (string)\n",
    "- hobbies (array of strings)\n",
    "- goal (string)\n",
    "\n",
    "텍스트:\n",
    "{text}\n",
    "\n",
    "{format_instructions}\n",
    "\"\"\"\n",
    ").partial(format_instructions=format_instructions)\n",
    "\n",
    "# 5) LCEL 체인: LLM → 문자열화 → (오류시 복구 가능한) Pydantic 파싱\n",
    "chain = prompt | llm | StrOutputParser() | fixing_parser\n",
    "\n",
    "# 6) 테스트\n",
    "text = (\n",
    "    \"안녕하세요! 저는 김민수이고 22살입니다. 컴퓨터공학을 전공하고 있어요. 취미로는 게임하기, 영화보기, 코딩을 좋아합니다. 앞으로 훌륭한 개발자가 되는 것이 목표입니다.\"\n",
    ")\n",
    "\n",
    "result: Student = chain.invoke({\"text\": text})\n",
    "print(result)\n"
   ]
  },
  {
   "cell_type": "markdown",
   "id": "ea281d76",
   "metadata": {},
   "source": [
    "## 문제 2-4 : 여행 계획 분석기"
   ]
  },
  {
   "cell_type": "code",
   "execution_count": 5,
   "id": "2514241a",
   "metadata": {},
   "outputs": [
    {
     "name": "stdout",
     "output_type": "stream",
     "text": [
      "{'destination': '부산', 'duration': '2박 3일', 'budget': '30만원', 'rating': '4', 'activities': ['해운대에서 바다구경', '자갈치시장에서 회 먹기', '감천문화마을 구경']}\n"
     ]
    }
   ],
   "source": [
    "\n",
    "schemas = [\n",
    "    ResponseSchema(name=\"destination\", description=\"여행지\"),\n",
    "    ResponseSchema(name=\"duration\", description=\"여행 기간\"),\n",
    "    ResponseSchema(name=\"budget\", description=\"예산\"),\n",
    "    ResponseSchema(name=\"rating\", description=\"추천도 (1-5점)\"),\n",
    "    ResponseSchema(name=\"activities\", description=\"주요 활동 리스트\"),\n",
    "]\n",
    "parser_24 = StructuredOutputParser.from_response_schemas(schemas)\n",
    "prompt_24 = PromptTemplate.from_template(\n",
    "    \"\"\"다음 여행 후기 텍스트에서 여행지, 기간, 예산, 추천도, 주요 활동 리스트를 추출하세요.\n",
    "\n",
    "텍스트:\n",
    "{text}\n",
    "\n",
    "{format_instructions}\n",
    "\"\"\"\n",
    ").partial(format_instructions=parser_24.get_format_instructions())\n",
    "\n",
    "chain_24 = prompt_24 | llm | parser_24\n",
    "travel_text = \"지난 주에 부산으로 2박 3일 여행을 다녀왔어요. 총 30만원 정도 썼는데 해운대에서 바다구경하고, 자갈치시장에서 회 먹고, 감천문화마을도 구경했어요. 정말 만족스러운 여행이었습니다. 5점 만점에 4점 정도 줄 수 있을 것 같아요.\"\n",
    "print(chain_24.invoke({\"text\": travel_text}))\n"
   ]
  }
 ],
 "metadata": {
  "kernelspec": {
   "display_name": "mylangchain-app-SBe-Yh6W-py3.12",
   "language": "python",
   "name": "python3"
  },
  "language_info": {
   "codemirror_mode": {
    "name": "ipython",
    "version": 3
   },
   "file_extension": ".py",
   "mimetype": "text/x-python",
   "name": "python",
   "nbconvert_exporter": "python",
   "pygments_lexer": "ipython3",
   "version": "3.12.7"
  }
 },
 "nbformat": 4,
 "nbformat_minor": 5
}
