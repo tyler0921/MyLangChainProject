{
 "cells": [
  {
   "cell_type": "markdown",
   "id": "0e89392d",
   "metadata": {},
   "source": [
    "\n",
    "# 문제 4-1 : 카페 메뉴 도구(Tool) 호출 체인 구현 (LangChain)\n",
    "이 노트북은 LangChain의 **Tool Calling** 기능을 사용해, 로컬 벡터 DB/웹/위키피디아를 조회하는 카페 도움말 어시스턴트를 구현합니다.\n",
    "\n",
    "## 준비사항\n",
    "- `./data/cafe_menu.txt` (이 노트북에서 자동 생성 가능)\n",
    "- 환경변수: `OPENAI_API_KEY`, `TAVILY_API_KEY`\n",
    "- 벡터 DB: FAISS (`./db/cafe_db`에 저장)\n"
   ]
  },
  {
   "cell_type": "markdown",
   "id": "44a79678",
   "metadata": {},
   "source": [
    "## 1. 카페 메뉴 데이터 파일 생성"
   ]
  },
  {
   "cell_type": "code",
   "execution_count": 6,
   "id": "ccd60f9e",
   "metadata": {},
   "outputs": [
    {
     "name": "stdout",
     "output_type": "stream",
     "text": [
      "Exists: c:\\mylangchain\\mylangchain-app\\src\\mylangchain_app\\0example\\data\\cafe_menu.txt\n",
      "\n",
      "아메리카노\n",
      "가격: ₩4,500\n",
      "재료: 에스프레소, 뜨거운 물\n",
      "설명: 원두 본연의 맛을 깔끔하게 즐길 수 있는 가장 기본 커피.\n",
      "\n",
      "카페라떼\n",
      "가격: ₩5,000\n",
      "재료: 에스프레소, 스팀밀크, 우유거품\n",
      "설명: 부드러운 우유 풍미와 조화로운 밸런스의 라떼.\n",
      "\n",
      "바닐라라떼\n",
      "가격: ₩5,500\n",
      "재료: 에스프레소, 바닐라시럽, 스팀밀크\n",
      "설명: 달콤한 바닐라 향이 매력적인 라떼.\n",
      "\n",
      "카푸치노\n",
      "가격: ₩5,200\n",
      "재료: 에스프레소, 스팀밀크, 두꺼운 우유거품\n",
      "설명: 진한 커피향과 거품 식감이 특징인 클래식 메뉴.\n",
      "\n",
      "콜드브루\n",
      "가격: ₩5,300\n",
      "재료: ...\n"
     ]
    }
   ],
   "source": [
    "\n",
    "from pathlib import Path\n",
    "\n",
    "DATA_DIR = Path.cwd() / \"data\"\n",
    "DATA_DIR.mkdir(parents=True, exist_ok=True)\n",
    "menu_path = DATA_DIR / \"cafe_menu.txt\"\n",
    "\n",
    "if not menu_path.exists():\n",
    "    menu_path.write_text(encoding=\"utf-8\")\n",
    "    print(\"Created:\", menu_path)\n",
    "else:\n",
    "    print(\"Exists:\", menu_path)\n",
    "print(menu_path.read_text(encoding=\"utf-8\")[:300], \"...\")\n"
   ]
  },
  {
   "cell_type": "markdown",
   "id": "0198595a",
   "metadata": {},
   "source": [
    "## 1-2. 벡터 DB 구축"
   ]
  },
  {
   "cell_type": "code",
   "execution_count": 2,
   "id": "a4609850",
   "metadata": {},
   "outputs": [
    {
     "name": "stderr",
     "output_type": "stream",
     "text": [
      "c:\\Users\\user\\AppData\\Local\\pypoetry\\Cache\\virtualenvs\\mylangchain-app-SBe-Yh6W-py3.12\\Lib\\site-packages\\tqdm\\auto.py:21: TqdmWarning: IProgress not found. Please update jupyter and ipywidgets. See https://ipywidgets.readthedocs.io/en/stable/user_install.html\n",
      "  from .autonotebook import tqdm as notebook_tqdm\n"
     ]
    },
    {
     "name": "stdout",
     "output_type": "stream",
     "text": [
      "FAISS index saved to: c:\\mylangchain\\mylangchain-app\\src\\mylangchain_app\\0example\\db\\cafe_db\n"
     ]
    }
   ],
   "source": [
    "\n",
    "import os, re, json\n",
    "from langchain_community.vectorstores import FAISS\n",
    "from langchain_openai import OpenAIEmbeddings\n",
    "from langchain.schema import Document\n",
    "from pathlib import Path\n",
    "\n",
    "DB_DIR = Path.cwd() / \"db\" / \"cafe_db\"\n",
    "DB_DIR.mkdir(parents=True, exist_ok=True)\n",
    "\n",
    "txt = menu_path.read_text(encoding=\"utf-8\")\n",
    "blocks = [b.strip() for b in re.split(r\"\\n\\s*\\n\", txt) if b.strip()]\n",
    "\n",
    "docs = []\n",
    "for block in blocks:\n",
    "    lines = block.splitlines()\n",
    "    menu_name = lines[0].strip()\n",
    "    docs.append(Document(page_content=block, metadata={\"menu_name\": menu_name}))\n",
    "\n",
    "emb = OpenAIEmbeddings(model=\"text-embedding-3-small\")\n",
    "vs = FAISS.from_documents(docs, emb)\n",
    "vs.save_local(str(DB_DIR))\n",
    "print(\"FAISS index saved to:\", DB_DIR)\n"
   ]
  },
  {
   "cell_type": "markdown",
   "id": "09cc8d3d",
   "metadata": {},
   "source": [
    "## 2. 3개의 도구를 정의"
   ]
  },
  {
   "cell_type": "code",
   "execution_count": 3,
   "id": "3270774d",
   "metadata": {},
   "outputs": [],
   "source": [
    "\n",
    "import json\n",
    "import wikipedia\n",
    "from langchain.tools import tool\n",
    "from langchain_community.tools.tavily_search import TavilySearchResults\n",
    "from langchain_community.vectorstores import FAISS\n",
    "from langchain_openai import OpenAIEmbeddings\n",
    "\n",
    "DB_DIR = Path.cwd() / \"db\" / \"cafe_db\"\n",
    "emb = OpenAIEmbeddings(model=\"text-embedding-3-small\")\n",
    "\n",
    "@tool(\"tavily_search_func\", return_direct=False)\n",
    "def tavily_search_func(query: str) -> str:\n",
    "    \"\"\"웹에서 최신 정보를 검색합니다 (Tavily). 입력: 검색어(str). 출력: 요약 문자열.\"\"\"\n",
    "    tavily = TavilySearchResults(max_results=5)\n",
    "    results = tavily.invoke({\"query\": query})\n",
    "    out = []\n",
    "    for i, r in enumerate(results, 1):\n",
    "        out.append(f\"[{i}] {r.get('url','')}\\n{r.get('content','')[:300]}...\")\n",
    "    return \"\\n\\n\".join(out) if out else \"검색 결과가 없습니다.\"\n",
    "\n",
    "@tool(\"wiki_summary\", return_direct=False)\n",
    "def wiki_summary(topic: str) -> str:\n",
    "    \"\"\"위키피디아에서 주제 요약을 제공합니다. 입력: 주제(str). 출력: 요약 문자열.\"\"\"\n",
    "    try:\n",
    "        wikipedia.set_lang(\"ko\")\n",
    "        return wikipedia.summary(topic, sentences=3, auto_suggest=False, redirect=True)\n",
    "    except Exception as e:\n",
    "        return f\"위키 요약 실패: {e}\"\n",
    "\n",
    "@tool(\"db_search_cafe_func\", return_direct=False)\n",
    "def db_search_cafe_func(query: str) -> str:\n",
    "    \"\"\"로컬 카페 메뉴 DB에서 유사한 항목을 검색합니다. 입력: 쿼리(str). 출력: JSON 문자열(List[Document]).\"\"\"\n",
    "    local_vs = FAISS.load_local(str(DB_DIR), embeddings=emb, allow_dangerous_deserialization=True)\n",
    "    found = local_vs.similarity_search(query, k=4)\n",
    "    payload = [{\"page_content\": d.page_content, \"metadata\": d.metadata} for d in found]\n",
    "    return json.dumps(payload, ensure_ascii=False)\n"
   ]
  },
  {
   "cell_type": "markdown",
   "id": "9c1ca75a",
   "metadata": {},
   "source": [
    "## 2-1. LLM 바인딩 및 체인\n",
    "## 3. 간단한 도구 호출 체인 구현체인 구조"
   ]
  },
  {
   "cell_type": "code",
   "execution_count": 4,
   "id": "0b0469a6",
   "metadata": {},
   "outputs": [],
   "source": [
    "\n",
    "from typing import Dict, Any\n",
    "from langchain_openai import ChatOpenAI\n",
    "from langchain_core.runnables import chain\n",
    "from langchain_core.messages import AIMessage\n",
    "\n",
    "TOOLS = [tavily_search_func, wiki_summary, db_search_cafe_func]\n",
    "llm = ChatOpenAI(model=\"gpt-4o-mini\", temperature=0)\n",
    "llm_with_tools = llm.bind_tools(TOOLS)\n",
    "\n",
    "@chain\n",
    "def cafe_tool_chain(question: str) -> Dict[str, Any]:\n",
    "    ai: AIMessage = llm_with_tools.invoke(question)\n",
    "    calls = getattr(ai, \"tool_calls\", []) or []\n",
    "    tool_results = []\n",
    "\n",
    "    if calls:\n",
    "        for c in calls:\n",
    "            name = c[\"name\"]\n",
    "            args = c.get(\"args\", {})\n",
    "            if name == \"tavily_search_func\":\n",
    "                out = tavily_search_func.invoke(args.get(\"query\", question))\n",
    "            elif name == \"wiki_summary\":\n",
    "                out = wiki_summary.invoke(args.get(\"topic\", question))\n",
    "            elif name == \"db_search_cafe_func\":\n",
    "                out = db_search_cafe_func.invoke(args.get(\"query\", question))\n",
    "            else:\n",
    "                out = f\"알 수 없는 도구: {name}\"\n",
    "            tool_results.append({\"tool\": name, \"output\": out})\n",
    "\n",
    "        ctx = \"\\n\\n\".join([f\"[{r['tool']}]\\n{r['output']}\" for r in tool_results])\n",
    "        final = llm.invoke(f\"\"\"사용자 질문: {question}\n",
    "아래 도구 결과를 참고하여 한국어로 간결하고 정확하게 답하세요.\n",
    "\n",
    "도구 결과:\n",
    "{ctx}\n",
    "\"\"\")\n",
    "        return {\"answer\": final.content, \"tool_calls\": calls, \"tool_results\": tool_results}\n",
    "    else:\n",
    "        return {\"answer\": ai.content, \"tool_calls\": [], \"tool_results\": []}\n"
   ]
  },
  {
   "cell_type": "markdown",
   "id": "9e665817",
   "metadata": {},
   "source": [
    "## 4. 테스트 질문 처리"
   ]
  },
  {
   "cell_type": "code",
   "execution_count": 5,
   "id": "d092f350",
   "metadata": {},
   "outputs": [
    {
     "name": "stderr",
     "output_type": "stream",
     "text": [
      "c:\\Users\\user\\AppData\\Local\\pypoetry\\Cache\\virtualenvs\\mylangchain-app-SBe-Yh6W-py3.12\\Lib\\site-packages\\wikipedia\\wikipedia.py:389: GuessedAtParserWarning: No parser was explicitly specified, so I'm using the best available HTML parser for this system (\"html.parser\"). This usually isn't a problem, but if you run this code on another system, or in a different virtual environment, it may use a different parser and behave differently.\n",
      "\n",
      "The code that caused this warning is on line 389 of the file c:\\Users\\user\\AppData\\Local\\pypoetry\\Cache\\virtualenvs\\mylangchain-app-SBe-Yh6W-py3.12\\Lib\\site-packages\\wikipedia\\wikipedia.py. To get rid of this warning, pass the additional argument 'features=\"html.parser\"' to the BeautifulSoup constructor.\n",
      "\n",
      "  lis = BeautifulSoup(html).find_all('li')\n"
     ]
    },
    {
     "name": "stdout",
     "output_type": "stream",
     "text": [
      "=== 최종 답변 ===\n",
      " 아메리카노의 가격은 ₩4,500이며, 에스프레소와 뜨거운 물로 만들어집니다. 이 커피는 원두 본연의 맛을 깔끔하게 즐길 수 있는 가장 기본적인 메뉴입니다.\n",
      "\n",
      "=== 도구 호출 내역 ===\n",
      " [{'name': 'db_search_cafe_func', 'args': {'query': '아메리카노'}, 'id': 'call_OP3D2nbXVzFBUUWG3DbufM0r', 'type': 'tool_call'}, {'name': 'wiki_summary', 'args': {'topic': '아메리카노'}, 'id': 'call_pesWomEEZPj64mKru47qySNU', 'type': 'tool_call'}]\n",
      "\n",
      "=== 도구 실행 결과(요약) ===\n",
      "- db_search_cafe_func: [{\"page_content\": \"아메리카노\\n가격: ₩4,500\\n재료: 에스프레소, 뜨거운 물\\n설명: 원두 본연의 맛을 깔끔하게 즐길 수 있는 가장 기본 커피.\", \"metadata\": {\"menu_name\": \"아메리카노\"}}, {\"page_content\": \"카푸치노\\n가격: ₩5,200\\n재료: 에스프레소, 스...\n",
      "- wiki_summary: 위키 요약 실패: \"아메리카노\" may refer to: \n",
      "카페 아메리카노\n",
      "아메리카노\n",
      "10cm\n",
      "Americano (노래)\n",
      "사비에르 쿠가트\n",
      "아메리카노 (2005년 영화)\n",
      "아메리카노 (2011년 영화)\n",
      "아메리카누 FC\n",
      "제목에 \"아메리카노\" 항목을 포함한 모든 문서\n",
      "아메리카나\n",
      "아메리칸...\n"
     ]
    }
   ],
   "source": [
    "\n",
    "out = cafe_tool_chain.invoke(\"아메리카노의 가격과 특징은 무엇인가요?\")\n",
    "print(\"=== 최종 답변 ===\\n\", out[\"answer\"])\n",
    "print(\"\\n=== 도구 호출 내역 ===\\n\", out[\"tool_calls\"])\n",
    "print(\"\\n=== 도구 실행 결과(요약) ===\")\n",
    "for r in out[\"tool_results\"]:\n",
    "    print(f\"- {r['tool']}: {str(r['output'])[:180]}...\")\n"
   ]
  }
 ],
 "metadata": {
  "kernelspec": {
   "display_name": "mylangchain-app-SBe-Yh6W-py3.12",
   "language": "python",
   "name": "python3"
  },
  "language_info": {
   "codemirror_mode": {
    "name": "ipython",
    "version": 3
   },
   "file_extension": ".py",
   "mimetype": "text/x-python",
   "name": "python",
   "nbconvert_exporter": "python",
   "pygments_lexer": "ipython3",
   "version": "3.12.7"
  }
 },
 "nbformat": 4,
 "nbformat_minor": 5
}
