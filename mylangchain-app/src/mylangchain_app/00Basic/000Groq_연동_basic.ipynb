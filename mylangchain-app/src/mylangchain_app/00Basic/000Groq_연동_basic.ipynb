{
 "cells": [
  {
   "cell_type": "code",
   "execution_count": 5,
   "id": "2c628d3d",
   "metadata": {},
   "outputs": [
    {
     "name": "stdout",
     "output_type": "stream",
     "text": [
      "Hello LangChain\n"
     ]
    }
   ],
   "source": [
    "print(\"Hello LangChain\")"
   ]
  },
  {
   "cell_type": "code",
   "execution_count": 1,
   "id": "a3b91443",
   "metadata": {},
   "outputs": [
    {
     "name": "stdout",
     "output_type": "stream",
     "text": [
      "gsk_E7YvPt\n"
     ]
    }
   ],
   "source": [
    "import os\n",
    "from dotenv import load_dotenv\n",
    "from langchain_core.prompts import ChatPromptTemplate\n",
    "from langchain_openai import ChatOpenAI \n",
    "\n",
    "load_dotenv(dotenv_path='.env')\n",
    "OPENAI_API_KEY = os.getenv(\"OPENAI_API_KEY\")\n",
    "print(OPENAI_API_KEY[:10])"
   ]
  },
  {
   "cell_type": "code",
   "execution_count": 2,
   "id": "aa569f5f",
   "metadata": {},
   "outputs": [
    {
     "data": {
      "text/plain": [
       "ChatPromptTemplate(input_variables=['input'], input_types={}, partial_variables={}, messages=[SystemMessagePromptTemplate(prompt=PromptTemplate(input_variables=[], input_types={}, partial_variables={}, template='당신은 개발자입니다.'), additional_kwargs={}), HumanMessagePromptTemplate(prompt=PromptTemplate(input_variables=['input'], input_types={}, partial_variables={}, template='{input}'), additional_kwargs={})])"
      ]
     },
     "execution_count": 2,
     "metadata": {},
     "output_type": "execute_result"
    }
   ],
   "source": [
    "# prompt + llm + output \n",
    "\n",
    "# prompt\n",
    "prompt = ChatPromptTemplate.from_messages(\n",
    "    [ (\"system\", \"당신은 개발자입니다.\") , \n",
    "     (\"user\", \"{input}\") ]\n",
    ")\n",
    "prompt"
   ]
  },
  {
   "cell_type": "code",
   "execution_count": 4,
   "id": "a792f11b",
   "metadata": {},
   "outputs": [
    {
     "name": "stdout",
     "output_type": "stream",
     "text": [
      "<class 'str'>\n",
      "System: 당신은 개발자입니다.\n",
      "Human: 파이썬은 무엇인가요? 자세하게 설명해주세요\n"
     ]
    }
   ],
   "source": [
    "prompt_text = prompt.format(input=\"파이썬은 무엇인가요? 자세하게 설명해주세요\")\n",
    "print(type(prompt_text))\n",
    "print(prompt_text)"
   ]
  },
  {
   "cell_type": "code",
   "execution_count": 5,
   "id": "7211c146",
   "metadata": {},
   "outputs": [
    {
     "name": "stdout",
     "output_type": "stream",
     "text": [
      "<class 'langchain_openai.chat_models.base.ChatOpenAI'>\n",
      "client=<openai.resources.chat.completions.completions.Completions object at 0x00000216ABD388C0> async_client=<openai.resources.chat.completions.completions.AsyncCompletions object at 0x00000216ABB5F1A0> root_client=<openai.OpenAI object at 0x00000216AB72EFC0> root_async_client=<openai.AsyncOpenAI object at 0x00000216ABB0F6E0> model_name='meta-llama/llama-4-scout-17b-16e-instruct' temperature=0.7 model_kwargs={} openai_api_key=SecretStr('**********') openai_api_base='https://api.groq.com/openai/v1'\n"
     ]
    }
   ],
   "source": [
    "#llm = ChatOpenAI(api_key=OPENAI_API_KEY, model_name=\"gpt-3.5-turbo-0125\")\n",
    "\n",
    "# Groq API를 사용하는 ChatOpenAI 인스턴스 생성\n",
    "llm = ChatOpenAI(\n",
    "    api_key=OPENAI_API_KEY,\n",
    "    base_url=\"https://api.groq.com/openai/v1\",  # Groq API 엔드포인트\n",
    "    model=\"meta-llama/llama-4-scout-17b-16e-instruct\",\n",
    "    temperature=0.7\n",
    ")\n",
    "print(type(llm))\n",
    "print(llm)"
   ]
  },
  {
   "cell_type": "code",
   "execution_count": 6,
   "id": "ac0db770",
   "metadata": {},
   "outputs": [
    {
     "name": "stdout",
     "output_type": "stream",
     "text": [
      "<class 'langchain_core.messages.ai.AIMessage'>\n",
      "응답: 파이썬! 프로그래밍 언어 중에서 가장 인기 있는 언어 중 하나입니다. 저는 개발자로서 파이썬에 대해 자세히 설명해 드리겠습니다.\n",
      "\n",
      "**파이썬이란?**\n",
      "\n",
      "파이썬은 1991년 Guido van Rossum에 의해 개발된 고수준 프로그래밍 언어입니다. 파이썬은 간단한 문법과 강력한 라이브러리, 그리고 다양한 운영 체제에서 실행할 수 있는 특징을 가지고 있습니다.\n",
      "\n",
      "**파이썬의 특징**\n",
      "\n",
      "1. **간단한 문법**: 파이썬은 다른 프로그래밍 언어에 비해 간단한 문법을 가지고 있습니다. 예를 들어, 변수 선언이나 함수 정의 등이 간결합니다.\n",
      "2. **강력한 라이브러리**: 파이썬은 다양한 라이브러리와 모듈을 가지고 있어 개발자가 쉽게 사용할 수 있습니다. 예를 들어, NumPy, pandas, Flask, Django 등 다양한 라이브러리가 있습니다.\n",
      "3. **다양한 운영 체제 지원**: 파이썬은 Windows, macOS, Linux 등 다양한 운영 체제에서 실행할 수 있습니다.\n",
      "4. **객체 지향 프로그래밍**: 파이썬은 객체 지향 프로그래밍(OOP) 개념을 지원합니다. 이는 모듈화, 상속, 다형성 등을 포함합니다.\n",
      "5. **동적 타이핑**: 파이썬은 동적 타이핑 언어입니다. 이는 변수의 타입을 선언하지 않아도 된다는 의미입니다.\n",
      "\n",
      "**파이썬의 사용 사례**\n",
      "\n",
      "1. **웹 개발**: 파이썬은 웹 개발에 많이 사용됩니다. 예를 들어, Flask, Django 등의 프레임워크를 사용하여 웹 애플리케이션을 개발할 수 있습니다.\n",
      "2. **데이터 과학**: 파이썬은 데이터 과학에 많이 사용됩니다. 예를 들어, NumPy, pandas, scikit-learn 등의 라이브러리를 사용하여 데이터 분석, 머신러닝 등을 수행할 수 있습니다.\n",
      "3. **스크립팅**: 파이썬은 스크립팅에 많이 사용됩니다. 예를 들어, 자동화 스크립트, 시스템 관리 스크립트 등을 작성할 수 있습니다.\n",
      "4. **교육**: 파이썬은 교육에 많이 사용됩니다. 예를 들어, 프로그래밍 입문 교과목에서 파이썬을 가르치는 경우가 많습니다.\n",
      "\n",
      "**파이썬의 버전**\n",
      "\n",
      "파이썬에는 두 가지 주요 버전이 있습니다.\n",
      "\n",
      "1. **파이썬 2.x**: 파이썬 2.x는 2000년에 출시되었으며, 2020년에 지원이 종료되었습니다.\n",
      "2. **파이썬 3.x**: 파이썬 3.x는 2008년에 출시되었으며, 현재 가장 최신 버전입니다.\n",
      "\n",
      "결론적으로, 파이썬은 간단한 문법, 강력한 라이브러리, 다양한 운영 체제 지원 등으로 인해 개발자들 사이에서 매우 인기 있는 언어입니다. 웹 개발, 데이터 과학, 스크립팅, 교육 등 다양한 분야에서 사용됩니다.\n"
     ]
    }
   ],
   "source": [
    "try:\n",
    "    response = llm.invoke(prompt_text)\n",
    "    print(type(response))\n",
    "    print(\"응답:\", response.content)\n",
    "except Exception as e:\n",
    "    print(f\"오류 발생: {e}\")"
   ]
  },
  {
   "cell_type": "markdown",
   "id": "ea8d8769",
   "metadata": {},
   "source": [
    "LCEL"
   ]
  },
  {
   "cell_type": "code",
   "execution_count": 7,
   "id": "4c3d495d",
   "metadata": {},
   "outputs": [],
   "source": [
    "from langchain_core.output_parsers import StrOutputParser\n",
    "\n",
    "output_parser = StrOutputParser()"
   ]
  },
  {
   "cell_type": "code",
   "execution_count": 8,
   "id": "cb326fde",
   "metadata": {},
   "outputs": [
    {
     "name": "stdout",
     "output_type": "stream",
     "text": [
      "<class 'langchain_core.runnables.base.RunnableSequence'>\n",
      "first=ChatPromptTemplate(input_variables=['input'], input_types={}, partial_variables={}, messages=[SystemMessagePromptTemplate(prompt=PromptTemplate(input_variables=[], input_types={}, partial_variables={}, template='당신은 개발자입니다.'), additional_kwargs={}), HumanMessagePromptTemplate(prompt=PromptTemplate(input_variables=['input'], input_types={}, partial_variables={}, template='{input}'), additional_kwargs={})]) middle=[ChatOpenAI(client=<openai.resources.chat.completions.completions.Completions object at 0x00000216ABD388C0>, async_client=<openai.resources.chat.completions.completions.AsyncCompletions object at 0x00000216ABB5F1A0>, root_client=<openai.OpenAI object at 0x00000216AB72EFC0>, root_async_client=<openai.AsyncOpenAI object at 0x00000216ABB0F6E0>, model_name='meta-llama/llama-4-scout-17b-16e-instruct', temperature=0.7, model_kwargs={}, openai_api_key=SecretStr('**********'), openai_api_base='https://api.groq.com/openai/v1')] last=StrOutputParser()\n"
     ]
    }
   ],
   "source": [
    "chain = prompt | llm | output_parser\n",
    "print(type(chain))\n",
    "print(chain)"
   ]
  },
  {
   "cell_type": "code",
   "execution_count": 9,
   "id": "6dc5edfe",
   "metadata": {},
   "outputs": [],
   "source": [
    "response = chain.invoke({\"input\":\"지구의 자전주기는 얼마인가요?\"})"
   ]
  },
  {
   "cell_type": "code",
   "execution_count": 10,
   "id": "3058038c",
   "metadata": {},
   "outputs": [
    {
     "name": "stdout",
     "output_type": "stream",
     "text": [
      "<class 'str'>\n",
      "지구의 자전주기는 24시간입니다.\n"
     ]
    }
   ],
   "source": [
    "print(type(response))\n",
    "print(response)"
   ]
  }
 ],
 "metadata": {
  "kernelspec": {
   "display_name": "mylangchain-app-SBe-Yh6W-py3.12",
   "language": "python",
   "name": "python3"
  },
  "language_info": {
   "codemirror_mode": {
    "name": "ipython",
    "version": 3
   },
   "file_extension": ".py",
   "mimetype": "text/x-python",
   "name": "python",
   "nbconvert_exporter": "python",
   "pygments_lexer": "ipython3",
   "version": "3.12.7"
  }
 },
 "nbformat": 4,
 "nbformat_minor": 5
}
